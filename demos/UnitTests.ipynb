{
 "cells": [
  {
   "cell_type": "markdown",
   "metadata": {},
   "source": [
    "# Unit tests for ChromaQuantExtensions"
   ]
  },
  {
   "cell_type": "code",
   "execution_count": null,
   "metadata": {},
   "outputs": [],
   "source": [
    "#unit test for uploading Manual csv data \n",
    "\n",
    "import pytest\n",
    "import pandas as pd\n",
    "import io\n",
    "from csv_man_loader import load_manual_csv #this is the function to be tested from the csv_loader.py file\n",
    "\n",
    "# Function to test (SAVE THIS IN csv_loader.py)\n",
    "def load_manual_csv(file):\n",
    "    if file is None:\n",
    "        raise ValueError(\"No file provided\")\n",
    "    return pd.read_csv(file)\n",
    "\n",
    "# Unit test\n",
    "def test_upload():\n",
    "    # Simulate a CSV file with correct columns\n",
    "    csv_data = io.StringIO(\"ret,name,formula,Area,Mass of liq (mg)\\n1,Sample1,H2O,50,10.5\\n2,Sample2,C6H12O6,30,5.2\") #this is the csv data to be tested (not a real csv)\n",
    "\n",
    "    # Test successful load\n",
    "    df = load_manual_csv(csv_data)\n",
    "    \n",
    "    # Assert DataFrame is not empty\n",
    "    assert not df.empty  \n",
    "    \n",
    "    # Assert correct column names\n",
    "    expected_columns = [\"ret\", \"name\", \"formula\", \"Area\", \"Mass of liq (mg)\"]\n",
    "    assert list(df.columns) == expected_columns  \n",
    "\n",
    "    # Test failure when no file is provided\n",
    "    with pytest.raises(ValueError, match=\"No file provided\"):\n",
    "        load_manual_csv(None)\n",
    "\n",
    "\n"
   ]
  },
  {
   "cell_type": "code",
   "execution_count": 3,
   "metadata": {},
   "outputs": [],
   "source": [
    "test_upload()"
   ]
  },
  {
   "cell_type": "code",
   "execution_count": null,
   "metadata": {},
   "outputs": [],
   "source": []
  }
 ],
 "metadata": {
  "kernelspec": {
   "display_name": "base",
   "language": "python",
   "name": "python3"
  },
  "language_info": {
   "codemirror_mode": {
    "name": "ipython",
    "version": 3
   },
   "file_extension": ".py",
   "mimetype": "text/x-python",
   "name": "python",
   "nbconvert_exporter": "python",
   "pygments_lexer": "ipython3",
   "version": "3.9.18"
  }
 },
 "nbformat": 4,
 "nbformat_minor": 2
}
